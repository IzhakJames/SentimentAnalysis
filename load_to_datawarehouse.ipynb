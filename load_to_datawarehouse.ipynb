{
 "cells": [
  {
   "attachments": {},
   "cell_type": "markdown",
   "metadata": {},
   "source": [
    "# import functions"
   ]
  },
  {
   "cell_type": "code",
   "execution_count": 87,
   "metadata": {},
   "outputs": [],
   "source": [
    "import mysql.connector\n",
    "from sqlalchemy import create_engine\n",
    "import pandas as pd\n",
    "from mysql.connector import Error"
   ]
  },
  {
   "attachments": {},
   "cell_type": "markdown",
   "metadata": {},
   "source": [
    "# Specifying credentials, create snd connect to database"
   ]
  },
  {
   "cell_type": "code",
   "execution_count": 93,
   "metadata": {},
   "outputs": [],
   "source": [
    "host = '34.87.87.119'\n",
    "user = 'bt4301_root'\n",
    "passwd = 'bt4301ftw'\n",
    "database='bt4301_gp_datawarehouse'\n",
    "port = '3306'"
   ]
  },
  {
   "cell_type": "code",
   "execution_count": 89,
   "metadata": {},
   "outputs": [
    {
     "name": "stdout",
     "output_type": "stream",
     "text": [
      "Database 'bt4301_gp_datawarehouse' already exists. No need to create it.\n",
      "MySQL connection is closed\n"
     ]
    }
   ],
   "source": [
    "def create_database_if_not_exists():\n",
    "    try:\n",
    "        # Connect to the MySQL server\n",
    "        connection = mysql.connector.connect(\n",
    "            host=host,\n",
    "            user=user,  # Replace with your MySQL username\n",
    "            password=passwd  # Replace with your MySQL password\n",
    "        )\n",
    "\n",
    "        # Create a cursor object\n",
    "        cursor = connection.cursor()\n",
    "        \n",
    "        # Check if the database exists\n",
    "        cursor.execute(\"SHOW DATABASES\")\n",
    "        databases = [db[0] for db in cursor.fetchall()]\n",
    "        if database in databases:\n",
    "            print(f\"Database '{database}' already exists. No need to create it.\")\n",
    "        else:\n",
    "            # Execute a query to create a database\n",
    "            cursor.execute(f\"CREATE DATABASE {database}\")\n",
    "            print(f\"Database '{database}' created successfully\")\n",
    "\n",
    "    except Error as e:\n",
    "        print(f\"Error: {e}\")\n",
    "    \n",
    "    finally:\n",
    "        # Close the connection and cursor\n",
    "        if connection.is_connected():\n",
    "            cursor.close()\n",
    "            connection.close()\n",
    "            print(\"MySQL connection is closed\")\n",
    "\n",
    "# Call the function\n",
    "create_database_if_not_exists()"
   ]
  },
  {
   "attachments": {},
   "cell_type": "markdown",
   "metadata": {},
   "source": [
    "# housekeeping"
   ]
  },
  {
   "cell_type": "code",
   "execution_count": 91,
   "metadata": {},
   "outputs": [],
   "source": [
    "db_datawarehouse = mysql.connector.connect(\n",
    "\thost=host,\n",
    "\tuser=user,\n",
    "\tpasswd=passwd,\n",
    "\tdatabase=database\n",
    ")\n",
    "\n",
    "cursor = db_datawarehouse.cursor()\n",
    "cursor.execute('DROP TABLE IF EXISTS reviews_fact;')\n",
    "cursor.execute('DROP TABLE IF EXISTS airline_dimension;')\n",
    "cursor.execute('DROP TABLE IF EXISTS flight_dimension;')\n",
    "\n",
    "\n",
    "db_datawarehouse.commit()\n",
    "db_datawarehouse.close()"
   ]
  },
  {
   "cell_type": "code",
   "execution_count": 94,
   "metadata": {},
   "outputs": [],
   "source": [
    "engine = create_engine(f'mysql://{user}:{passwd}@{host}:{port}/{database}?charset=utf8mb4', echo=False,future=True)\n",
    "db_sent = engine.connect()"
   ]
  },
  {
   "attachments": {},
   "cell_type": "markdown",
   "metadata": {},
   "source": [
    "# Prepare data to insert into database"
   ]
  },
  {
   "cell_type": "code",
   "execution_count": 95,
   "metadata": {},
   "outputs": [],
   "source": [
    "# to change to get csv from datalake\n",
    "raw_data = pd.read_csv('all_reviews.csv')"
   ]
  },
  {
   "cell_type": "code",
   "execution_count": 96,
   "metadata": {},
   "outputs": [],
   "source": [
    "reviews_fact = [\n",
    "    \"Review ID\",\n",
    "    \"Date Published\",\n",
    "    \"Overall Rating\",\n",
    "    \"Passenger Country\",\n",
    "    \"Trip Verified\",\n",
    "    \"Review\",\n",
    "    \"Airline\",\n",
    "    \"Type Of Traveller\",\n",
    "    \"Seat Type\",\n",
    "    \"Seat Comfort\",\n",
    "    \"Cabin Staff Service\",\n",
    "    \"Food & Beverages\",\n",
    "    \"Ground Service\",\n",
    "    \"Wifi & Connectivity\",\n",
    "    \"Value For Money\",\n",
    "    \"Recommended\",\n",
    "    \"Inflight Entertainment\"]\n",
    "\n",
    "# \"FlightID\" to be created, not in raw_data"
   ]
  },
  {
   "attachments": {},
   "cell_type": "markdown",
   "metadata": {},
   "source": [
    "## Reviews Fact"
   ]
  },
  {
   "cell_type": "code",
   "execution_count": 97,
   "metadata": {},
   "outputs": [],
   "source": [
    "reviews_fact = raw_data[reviews_fact]"
   ]
  },
  {
   "cell_type": "code",
   "execution_count": 98,
   "metadata": {},
   "outputs": [
    {
     "name": "stderr",
     "output_type": "stream",
     "text": [
      "/var/folders/tr/5jr_r6nj3ng65wvq5fs4q41w0000gn/T/ipykernel_81896/1584447569.py:2: SettingWithCopyWarning: \n",
      "A value is trying to be set on a copy of a slice from a DataFrame.\n",
      "Try using .loc[row_indexer,col_indexer] = value instead\n",
      "\n",
      "See the caveats in the documentation: https://pandas.pydata.org/pandas-docs/stable/user_guide/indexing.html#returning-a-view-versus-a-copy\n",
      "  reviews_fact['Date Published'] = pd.to_datetime(reviews_fact['Date Published'])\n"
     ]
    }
   ],
   "source": [
    "from datetime import datetime\n",
    "reviews_fact['Date Published'] = pd.to_datetime(reviews_fact['Date Published'])"
   ]
  },
  {
   "cell_type": "code",
   "execution_count": 99,
   "metadata": {},
   "outputs": [],
   "source": [
    "reviews_fact.to_sql(name='reviews_fact', con=db_sent, if_exists='replace')\n",
    "\n",
    "db_sent.commit()"
   ]
  },
  {
   "attachments": {},
   "cell_type": "markdown",
   "metadata": {},
   "source": [
    "## Airline Dimension"
   ]
  },
  {
   "cell_type": "code",
   "execution_count": 100,
   "metadata": {},
   "outputs": [],
   "source": [
    "airline_dimension = raw_data[['Airline','Overall Rating']].groupby(by=['Airline']).mean()"
   ]
  },
  {
   "cell_type": "code",
   "execution_count": 101,
   "metadata": {},
   "outputs": [],
   "source": [
    "from sqlalchemy.types import VARCHAR\n",
    "sql_types = {\n",
    "    'Airline': VARCHAR(255)  # or another length that suits your data\n",
    "}\n",
    "\n",
    "airline_dimension.to_sql(name='airline_dimension', con=db_sent, if_exists='replace',dtype=sql_types)\n",
    "\n",
    "db_sent.commit()"
   ]
  },
  {
   "attachments": {},
   "cell_type": "markdown",
   "metadata": {},
   "source": [
    "## Flight Dimension"
   ]
  },
  {
   "cell_type": "code",
   "execution_count": 102,
   "metadata": {},
   "outputs": [
    {
     "data": {
      "text/plain": [
       "Index(['Airline', 'Review ID', 'Date Published', 'Overall Rating',\n",
       "       'Passenger Country', 'Trip Verified', 'Review Title', 'Review',\n",
       "       'Aircraft', 'Type Of Traveller', 'Seat Type', 'Origin', 'Destination',\n",
       "       'Layover', 'Date Flown', 'Seat Comfort', 'Cabin Staff Service',\n",
       "       'Food & Beverages', 'Ground Service', 'Wifi & Connectivity',\n",
       "       'Value For Money', 'Recommended', 'Inflight Entertainment'],\n",
       "      dtype='object')"
      ]
     },
     "execution_count": 102,
     "metadata": {},
     "output_type": "execute_result"
    }
   ],
   "source": [
    "raw_data.columns"
   ]
  },
  {
   "cell_type": "code",
   "execution_count": 103,
   "metadata": {},
   "outputs": [],
   "source": [
    "flight_dim_list = ['Origin','Destination','Layover','Aircraft','Date Flown']"
   ]
  },
  {
   "cell_type": "code",
   "execution_count": 104,
   "metadata": {},
   "outputs": [],
   "source": [
    "flight_dimension = raw_data[flight_dim_list].drop_duplicates()\n",
    "flight_dimension['Date Flown'] = pd.to_datetime(flight_dimension['Date Flown'])"
   ]
  },
  {
   "cell_type": "code",
   "execution_count": 105,
   "metadata": {},
   "outputs": [],
   "source": [
    "flight_dimension.to_sql(name='flight_dimension', con=db_sent, if_exists='replace')\n",
    "\n",
    "db_sent.commit()"
   ]
  },
  {
   "cell_type": "code",
   "execution_count": 106,
   "metadata": {},
   "outputs": [],
   "source": [
    "db_sent.close()"
   ]
  },
  {
   "attachments": {},
   "cell_type": "markdown",
   "metadata": {},
   "source": [
    "# Set Keys"
   ]
  },
  {
   "cell_type": "code",
   "execution_count": 107,
   "metadata": {},
   "outputs": [],
   "source": [
    "db_sent = mysql.connector.connect(\n",
    "\thost=host,\n",
    "\tuser=user,\n",
    "\tpasswd=passwd,\n",
    "\tdatabase=database\n",
    ")\n",
    "cursor = db_sent.cursor()\n",
    "cursor.execute('ALTER TABLE airline_dimension MODIFY `Airline` VARCHAR(255);')\n",
    "cursor.execute('ALTER TABLE reviews_fact MODIFY `Airline` VARCHAR(255);')\n",
    "cursor.execute('ALTER TABLE reviews_fact ADD PRIMARY KEY (`Review ID`);')\n",
    "cursor.execute('ALTER TABLE airline_dimension ADD PRIMARY KEY (`Airline`(255))')\n",
    "cursor.execute('ALTER TABLE flight_dimension ADD PRIMARY KEY (`index`)')\n",
    "cursor.execute('ALTER TABLE reviews_fact ADD FOREIGN KEY (`Airline`) REFERENCES airline_dimension(`Airline`);')\n",
    "\n",
    "db_sent.commit()\n",
    "db_sent.close()"
   ]
  }
 ],
 "metadata": {
  "kernelspec": {
   "display_name": "base",
   "language": "python",
   "name": "python3"
  },
  "language_info": {
   "codemirror_mode": {
    "name": "ipython",
    "version": 3
   },
   "file_extension": ".py",
   "mimetype": "text/x-python",
   "name": "python",
   "nbconvert_exporter": "python",
   "pygments_lexer": "ipython3",
   "version": "3.10.9 (main, Mar  1 2023, 12:20:14) [Clang 14.0.6 ]"
  },
  "orig_nbformat": 4,
  "vscode": {
   "interpreter": {
    "hash": "af3174790ae585d247763590376d478637580d04a55c0f6663c6b7ad8182cdda"
   }
  }
 },
 "nbformat": 4,
 "nbformat_minor": 2
}
