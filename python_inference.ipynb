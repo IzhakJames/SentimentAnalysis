{
  "cells": [
    {
      "cell_type": "markdown",
      "metadata": {},
      "source": [
        "Main resources:\n",
        "- https://brighteshun.medium.com/sentiment-analysis-part-1-finetuning-and-hosting-a-text-classification-model-on-huggingface-9d6da6fd856b"
      ]
    },
    {
      "cell_type": "code",
      "execution_count": 19,
      "metadata": {},
      "outputs": [],
      "source": [
        "#Import Libraries\n",
        "import pandas as pd\n",
        "from scipy.special import softmax\n",
        "from sklearn.metrics import roc_auc_score, confusion_matrix, accuracy_score, classification_report\n",
        "\n",
        "#finetuning\n",
        "from transformers import AutoTokenizer, AutoModelForSequenceClassification"
      ]
    },
    {
      "cell_type": "code",
      "execution_count": 2,
      "metadata": {},
      "outputs": [
        {
          "data": {
            "text/html": [
              "<div>\n",
              "<style scoped>\n",
              "    .dataframe tbody tr th:only-of-type {\n",
              "        vertical-align: middle;\n",
              "    }\n",
              "\n",
              "    .dataframe tbody tr th {\n",
              "        vertical-align: top;\n",
              "    }\n",
              "\n",
              "    .dataframe thead th {\n",
              "        text-align: right;\n",
              "    }\n",
              "</style>\n",
              "<table border=\"1\" class=\"dataframe\">\n",
              "  <thead>\n",
              "    <tr style=\"text-align: right;\">\n",
              "      <th></th>\n",
              "      <th>Cleaned_Review</th>\n",
              "      <th>is_negative_sentiment</th>\n",
              "    </tr>\n",
              "  </thead>\n",
              "  <tbody>\n",
              "    <tr>\n",
              "      <th>0</th>\n",
              "      <td>Bangkok to Pune via Kolkata. As  faultless fli...</td>\n",
              "      <td>0</td>\n",
              "    </tr>\n",
              "    <tr>\n",
              "      <th>1</th>\n",
              "      <td>First, when trying to manage our booking, it d...</td>\n",
              "      <td>1</td>\n",
              "    </tr>\n",
              "    <tr>\n",
              "      <th>2</th>\n",
              "      <td>My flight from Bandung to Surabaya was on time...</td>\n",
              "      <td>0</td>\n",
              "    </tr>\n",
              "    <tr>\n",
              "      <th>3</th>\n",
              "      <td>Their on time performance is best in India and...</td>\n",
              "      <td>0</td>\n",
              "    </tr>\n",
              "    <tr>\n",
              "      <th>4</th>\n",
              "      <td>Flew Melbourne to Bangkok in Business class. W...</td>\n",
              "      <td>0</td>\n",
              "    </tr>\n",
              "    <tr>\n",
              "      <th>...</th>\n",
              "      <td>...</td>\n",
              "      <td>...</td>\n",
              "    </tr>\n",
              "    <tr>\n",
              "      <th>819</th>\n",
              "      <td>JQ 29 MEL-BKK on B787. First trip on the 'Drea...</td>\n",
              "      <td>1</td>\n",
              "    </tr>\n",
              "    <tr>\n",
              "      <th>820</th>\n",
              "      <td>We flew international from Sydney to Nadi (Fij...</td>\n",
              "      <td>0</td>\n",
              "    </tr>\n",
              "    <tr>\n",
              "      <th>821</th>\n",
              "      <td>General Santos to Manila. Cebu Pacific has one...</td>\n",
              "      <td>0</td>\n",
              "    </tr>\n",
              "    <tr>\n",
              "      <th>822</th>\n",
              "      <td>Singapore to Ho Chi Minh City. Appreciate the ...</td>\n",
              "      <td>0</td>\n",
              "    </tr>\n",
              "    <tr>\n",
              "      <th>823</th>\n",
              "      <td>I've flown Air Asia a lot, so I think it's tim...</td>\n",
              "      <td>0</td>\n",
              "    </tr>\n",
              "  </tbody>\n",
              "</table>\n",
              "<p>824 rows × 2 columns</p>\n",
              "</div>"
            ],
            "text/plain": [
              "                                        Cleaned_Review  is_negative_sentiment\n",
              "0    Bangkok to Pune via Kolkata. As  faultless fli...                      0\n",
              "1    First, when trying to manage our booking, it d...                      1\n",
              "2    My flight from Bandung to Surabaya was on time...                      0\n",
              "3    Their on time performance is best in India and...                      0\n",
              "4    Flew Melbourne to Bangkok in Business class. W...                      0\n",
              "..                                                 ...                    ...\n",
              "819  JQ 29 MEL-BKK on B787. First trip on the 'Drea...                      1\n",
              "820  We flew international from Sydney to Nadi (Fij...                      0\n",
              "821  General Santos to Manila. Cebu Pacific has one...                      0\n",
              "822  Singapore to Ho Chi Minh City. Appreciate the ...                      0\n",
              "823  I've flown Air Asia a lot, so I think it's tim...                      0\n",
              "\n",
              "[824 rows x 2 columns]"
            ]
          },
          "execution_count": 2,
          "metadata": {},
          "output_type": "execute_result"
        }
      ],
      "source": [
        "test_data = pd.read_csv(\"test.csv\")\n",
        "test_data"
      ]
    },
    {
      "cell_type": "code",
      "execution_count": 4,
      "metadata": {},
      "outputs": [
        {
          "name": "stdout",
          "output_type": "stream",
          "text": [
            "My trip to Singapore is only for 6 days and Scoot delayed the flight 1.5 days. Cant contact by phone from 11pm despite there is 24 hours contact. Cant get any information and can change the flight sooner because your manage is not updated. So angry because they delay this by 1.5 days without any repay, just apologies and we don't need their apologies. Worst airline ever.\n",
            "1\n"
          ]
        }
      ],
      "source": [
        "sample = test_data.iloc[5]\n",
        "sample_txt, sample_label = sample['Cleaned_Review'], sample['is_negative_sentiment']\n",
        "print(sample_txt)\n",
        "print(sample_label)"
      ]
    },
    {
      "cell_type": "code",
      "execution_count": 5,
      "metadata": {},
      "outputs": [],
      "source": [
        "def load_model(model_path):\n",
        "    tokenizer = AutoTokenizer.from_pretrained(model_path)\n",
        "    model = AutoModelForSequenceClassification.from_pretrained(model_path)\n",
        "    return model, tokenizer"
      ]
    },
    {
      "cell_type": "code",
      "execution_count": 6,
      "metadata": {},
      "outputs": [],
      "source": [
        "output_dir = \"finetune_sentiments_analysis_distilbert\"\n",
        "model, tokenizer = load_model(output_dir)"
      ]
    },
    {
      "cell_type": "code",
      "execution_count": 10,
      "metadata": {},
      "outputs": [],
      "source": [
        "# Process the input text and return sentiment prediction\n",
        "def is_negative_sentiment_score(text):\n",
        "    # text = preprocess(text)\n",
        "    encoded_input = tokenizer(text, truncation=True, return_tensors=\"pt\")  # for PyTorch-based models\n",
        "    output = model(**encoded_input)\n",
        "    scores_ = output[0][0].detach().numpy()\n",
        "    scores_ = softmax(scores_)\n",
        "\n",
        "    # Format output dictionary of scores\n",
        "    labels = [\"Negative\", \"Positive\"]\n",
        "    scores = {l: float(s) for (l, s) in zip(labels, scores_)}\n",
        "    return scores.get(\"Negative\", 0.0)"
      ]
    },
    {
      "cell_type": "code",
      "execution_count": 11,
      "metadata": {},
      "outputs": [
        {
          "name": "stdout",
          "output_type": "stream",
          "text": [
            "My trip to Singapore is only for 6 days and Scoot delayed the flight 1.5 days. Cant contact by phone from 11pm despite there is 24 hours contact. Cant get any information and can change the flight sooner because your manage is not updated. So angry because they delay this by 1.5 days without any repay, just apologies and we don't need their apologies. Worst airline ever.\n",
            "1\n"
          ]
        },
        {
          "data": {
            "text/plain": [
              "0.9994150400161743"
            ]
          },
          "execution_count": 11,
          "metadata": {},
          "output_type": "execute_result"
        }
      ],
      "source": [
        "print(sample_txt)\n",
        "print(sample_label)\n",
        "is_negative_sentiment_score(sample_txt)"
      ]
    },
    {
      "cell_type": "code",
      "execution_count": 12,
      "metadata": {},
      "outputs": [
        {
          "data": {
            "text/html": [
              "<div>\n",
              "<style scoped>\n",
              "    .dataframe tbody tr th:only-of-type {\n",
              "        vertical-align: middle;\n",
              "    }\n",
              "\n",
              "    .dataframe tbody tr th {\n",
              "        vertical-align: top;\n",
              "    }\n",
              "\n",
              "    .dataframe thead th {\n",
              "        text-align: right;\n",
              "    }\n",
              "</style>\n",
              "<table border=\"1\" class=\"dataframe\">\n",
              "  <thead>\n",
              "    <tr style=\"text-align: right;\">\n",
              "      <th></th>\n",
              "      <th>Cleaned_Review</th>\n",
              "      <th>is_negative_sentiment</th>\n",
              "      <th>negative_sentiment_score</th>\n",
              "    </tr>\n",
              "  </thead>\n",
              "  <tbody>\n",
              "    <tr>\n",
              "      <th>0</th>\n",
              "      <td>Bangkok to Pune via Kolkata. As  faultless fli...</td>\n",
              "      <td>0</td>\n",
              "      <td>0.999379</td>\n",
              "    </tr>\n",
              "    <tr>\n",
              "      <th>1</th>\n",
              "      <td>First, when trying to manage our booking, it d...</td>\n",
              "      <td>1</td>\n",
              "      <td>0.999231</td>\n",
              "    </tr>\n",
              "    <tr>\n",
              "      <th>2</th>\n",
              "      <td>My flight from Bandung to Surabaya was on time...</td>\n",
              "      <td>0</td>\n",
              "      <td>0.945872</td>\n",
              "    </tr>\n",
              "    <tr>\n",
              "      <th>3</th>\n",
              "      <td>Their on time performance is best in India and...</td>\n",
              "      <td>0</td>\n",
              "      <td>0.004759</td>\n",
              "    </tr>\n",
              "    <tr>\n",
              "      <th>4</th>\n",
              "      <td>Flew Melbourne to Bangkok in Business class. W...</td>\n",
              "      <td>0</td>\n",
              "      <td>0.033919</td>\n",
              "    </tr>\n",
              "    <tr>\n",
              "      <th>...</th>\n",
              "      <td>...</td>\n",
              "      <td>...</td>\n",
              "      <td>...</td>\n",
              "    </tr>\n",
              "    <tr>\n",
              "      <th>819</th>\n",
              "      <td>JQ 29 MEL-BKK on B787. First trip on the 'Drea...</td>\n",
              "      <td>1</td>\n",
              "      <td>0.999590</td>\n",
              "    </tr>\n",
              "    <tr>\n",
              "      <th>820</th>\n",
              "      <td>We flew international from Sydney to Nadi (Fij...</td>\n",
              "      <td>0</td>\n",
              "      <td>0.003954</td>\n",
              "    </tr>\n",
              "    <tr>\n",
              "      <th>821</th>\n",
              "      <td>General Santos to Manila. Cebu Pacific has one...</td>\n",
              "      <td>0</td>\n",
              "      <td>0.001756</td>\n",
              "    </tr>\n",
              "    <tr>\n",
              "      <th>822</th>\n",
              "      <td>Singapore to Ho Chi Minh City. Appreciate the ...</td>\n",
              "      <td>0</td>\n",
              "      <td>0.110545</td>\n",
              "    </tr>\n",
              "    <tr>\n",
              "      <th>823</th>\n",
              "      <td>I've flown Air Asia a lot, so I think it's tim...</td>\n",
              "      <td>0</td>\n",
              "      <td>0.002022</td>\n",
              "    </tr>\n",
              "  </tbody>\n",
              "</table>\n",
              "<p>824 rows × 3 columns</p>\n",
              "</div>"
            ],
            "text/plain": [
              "                                        Cleaned_Review  is_negative_sentiment  \\\n",
              "0    Bangkok to Pune via Kolkata. As  faultless fli...                      0   \n",
              "1    First, when trying to manage our booking, it d...                      1   \n",
              "2    My flight from Bandung to Surabaya was on time...                      0   \n",
              "3    Their on time performance is best in India and...                      0   \n",
              "4    Flew Melbourne to Bangkok in Business class. W...                      0   \n",
              "..                                                 ...                    ...   \n",
              "819  JQ 29 MEL-BKK on B787. First trip on the 'Drea...                      1   \n",
              "820  We flew international from Sydney to Nadi (Fij...                      0   \n",
              "821  General Santos to Manila. Cebu Pacific has one...                      0   \n",
              "822  Singapore to Ho Chi Minh City. Appreciate the ...                      0   \n",
              "823  I've flown Air Asia a lot, so I think it's tim...                      0   \n",
              "\n",
              "     negative_sentiment_score  \n",
              "0                    0.999379  \n",
              "1                    0.999231  \n",
              "2                    0.945872  \n",
              "3                    0.004759  \n",
              "4                    0.033919  \n",
              "..                        ...  \n",
              "819                  0.999590  \n",
              "820                  0.003954  \n",
              "821                  0.001756  \n",
              "822                  0.110545  \n",
              "823                  0.002022  \n",
              "\n",
              "[824 rows x 3 columns]"
            ]
          },
          "execution_count": 12,
          "metadata": {},
          "output_type": "execute_result"
        }
      ],
      "source": [
        "# Assuming your DataFrame is called 'df' and the text column is 'text_column'\n",
        "test_data['negative_sentiment_score'] = test_data['Cleaned_Review'].apply(is_negative_sentiment_score)\n",
        "test_data"
      ]
    },
    {
      "cell_type": "code",
      "execution_count": 21,
      "metadata": {},
      "outputs": [
        {
          "name": "stdout",
          "output_type": "stream",
          "text": [
            "ROC AUC Score: 0.9576\n"
          ]
        }
      ],
      "source": [
        "true_labels = test_data['is_negative_sentiment']\n",
        "pred_vals = test_data['negative_sentiment_score']\n",
        "\n",
        "# Calculate the ROC AUC Score\n",
        "roc_auc = roc_auc_score(true_labels, pred_vals)\n",
        "print(f\"ROC AUC Score: {roc_auc:.4f}\")"
      ]
    },
    {
      "cell_type": "code",
      "execution_count": 22,
      "metadata": {},
      "outputs": [
        {
          "data": {
            "text/html": [
              "<div>\n",
              "<style scoped>\n",
              "    .dataframe tbody tr th:only-of-type {\n",
              "        vertical-align: middle;\n",
              "    }\n",
              "\n",
              "    .dataframe tbody tr th {\n",
              "        vertical-align: top;\n",
              "    }\n",
              "\n",
              "    .dataframe thead th {\n",
              "        text-align: right;\n",
              "    }\n",
              "</style>\n",
              "<table border=\"1\" class=\"dataframe\">\n",
              "  <thead>\n",
              "    <tr style=\"text-align: right;\">\n",
              "      <th></th>\n",
              "      <th>Cleaned_Review</th>\n",
              "      <th>is_negative_sentiment</th>\n",
              "      <th>negative_sentiment_score</th>\n",
              "      <th>sentiment_acc</th>\n",
              "    </tr>\n",
              "  </thead>\n",
              "  <tbody>\n",
              "    <tr>\n",
              "      <th>0</th>\n",
              "      <td>Bangkok to Pune via Kolkata. As  faultless fli...</td>\n",
              "      <td>0</td>\n",
              "      <td>0.999379</td>\n",
              "      <td>1</td>\n",
              "    </tr>\n",
              "    <tr>\n",
              "      <th>1</th>\n",
              "      <td>First, when trying to manage our booking, it d...</td>\n",
              "      <td>1</td>\n",
              "      <td>0.999231</td>\n",
              "      <td>1</td>\n",
              "    </tr>\n",
              "    <tr>\n",
              "      <th>2</th>\n",
              "      <td>My flight from Bandung to Surabaya was on time...</td>\n",
              "      <td>0</td>\n",
              "      <td>0.945872</td>\n",
              "      <td>1</td>\n",
              "    </tr>\n",
              "    <tr>\n",
              "      <th>3</th>\n",
              "      <td>Their on time performance is best in India and...</td>\n",
              "      <td>0</td>\n",
              "      <td>0.004759</td>\n",
              "      <td>0</td>\n",
              "    </tr>\n",
              "    <tr>\n",
              "      <th>4</th>\n",
              "      <td>Flew Melbourne to Bangkok in Business class. W...</td>\n",
              "      <td>0</td>\n",
              "      <td>0.033919</td>\n",
              "      <td>0</td>\n",
              "    </tr>\n",
              "    <tr>\n",
              "      <th>...</th>\n",
              "      <td>...</td>\n",
              "      <td>...</td>\n",
              "      <td>...</td>\n",
              "      <td>...</td>\n",
              "    </tr>\n",
              "    <tr>\n",
              "      <th>819</th>\n",
              "      <td>JQ 29 MEL-BKK on B787. First trip on the 'Drea...</td>\n",
              "      <td>1</td>\n",
              "      <td>0.999590</td>\n",
              "      <td>1</td>\n",
              "    </tr>\n",
              "    <tr>\n",
              "      <th>820</th>\n",
              "      <td>We flew international from Sydney to Nadi (Fij...</td>\n",
              "      <td>0</td>\n",
              "      <td>0.003954</td>\n",
              "      <td>0</td>\n",
              "    </tr>\n",
              "    <tr>\n",
              "      <th>821</th>\n",
              "      <td>General Santos to Manila. Cebu Pacific has one...</td>\n",
              "      <td>0</td>\n",
              "      <td>0.001756</td>\n",
              "      <td>0</td>\n",
              "    </tr>\n",
              "    <tr>\n",
              "      <th>822</th>\n",
              "      <td>Singapore to Ho Chi Minh City. Appreciate the ...</td>\n",
              "      <td>0</td>\n",
              "      <td>0.110545</td>\n",
              "      <td>0</td>\n",
              "    </tr>\n",
              "    <tr>\n",
              "      <th>823</th>\n",
              "      <td>I've flown Air Asia a lot, so I think it's tim...</td>\n",
              "      <td>0</td>\n",
              "      <td>0.002022</td>\n",
              "      <td>0</td>\n",
              "    </tr>\n",
              "  </tbody>\n",
              "</table>\n",
              "<p>824 rows × 4 columns</p>\n",
              "</div>"
            ],
            "text/plain": [
              "                                        Cleaned_Review  is_negative_sentiment  \\\n",
              "0    Bangkok to Pune via Kolkata. As  faultless fli...                      0   \n",
              "1    First, when trying to manage our booking, it d...                      1   \n",
              "2    My flight from Bandung to Surabaya was on time...                      0   \n",
              "3    Their on time performance is best in India and...                      0   \n",
              "4    Flew Melbourne to Bangkok in Business class. W...                      0   \n",
              "..                                                 ...                    ...   \n",
              "819  JQ 29 MEL-BKK on B787. First trip on the 'Drea...                      1   \n",
              "820  We flew international from Sydney to Nadi (Fij...                      0   \n",
              "821  General Santos to Manila. Cebu Pacific has one...                      0   \n",
              "822  Singapore to Ho Chi Minh City. Appreciate the ...                      0   \n",
              "823  I've flown Air Asia a lot, so I think it's tim...                      0   \n",
              "\n",
              "     negative_sentiment_score  sentiment_acc  \n",
              "0                    0.999379              1  \n",
              "1                    0.999231              1  \n",
              "2                    0.945872              1  \n",
              "3                    0.004759              0  \n",
              "4                    0.033919              0  \n",
              "..                        ...            ...  \n",
              "819                  0.999590              1  \n",
              "820                  0.003954              0  \n",
              "821                  0.001756              0  \n",
              "822                  0.110545              0  \n",
              "823                  0.002022              0  \n",
              "\n",
              "[824 rows x 4 columns]"
            ]
          },
          "execution_count": 22,
          "metadata": {},
          "output_type": "execute_result"
        }
      ],
      "source": [
        "TH = 0.5\n",
        "test_data['sentiment_acc'] = test_data['negative_sentiment_score'].apply(lambda score: 1 if score >= TH else 0)\n",
        "test_data"
      ]
    },
    {
      "cell_type": "code",
      "execution_count": 23,
      "metadata": {},
      "outputs": [
        {
          "name": "stdout",
          "output_type": "stream",
          "text": [
            "[[239   9]\n",
            " [ 99 477]]\n"
          ]
        }
      ],
      "source": [
        "# Assuming 'sentiment_acc' holds predicted sentiment (0 or 1) and 'is_negative_sentiment' holds true labels (0 or 1)\n",
        "pred_labels = test_data['sentiment_acc']\n",
        "confusion_matrix_result = confusion_matrix(pred_labels, true_labels)\n",
        "print(confusion_matrix_result)"
      ]
    },
    {
      "cell_type": "code",
      "execution_count": 25,
      "metadata": {},
      "outputs": [
        {
          "name": "stdout",
          "output_type": "stream",
          "text": [
            "              precision    recall  f1-score   support\n",
            "\n",
            "           0       0.96      0.71      0.82       338\n",
            "           1       0.83      0.98      0.90       486\n",
            "\n",
            "    accuracy                           0.87       824\n",
            "   macro avg       0.90      0.84      0.86       824\n",
            "weighted avg       0.88      0.87      0.86       824\n",
            "\n"
          ]
        }
      ],
      "source": [
        "print(classification_report(true_labels, pred_labels))"
      ]
    },
    {
      "cell_type": "code",
      "execution_count": 31,
      "metadata": {},
      "outputs": [
        {
          "data": {
            "text/plain": [
              "0.8689320388349514"
            ]
          },
          "execution_count": 31,
          "metadata": {},
          "output_type": "execute_result"
        }
      ],
      "source": [
        "accuracy = accuracy_score(true_labels, pred_labels)\n",
        "accuracy"
      ]
    }
  ],
  "metadata": {
    "colab": {
      "provenance": []
    },
    "kernelspec": {
      "display_name": "Python 3",
      "name": "python3"
    },
    "language_info": {
      "codemirror_mode": {
        "name": "ipython",
        "version": 3
      },
      "file_extension": ".py",
      "mimetype": "text/x-python",
      "name": "python",
      "nbconvert_exporter": "python",
      "pygments_lexer": "ipython3",
      "version": "3.10.11"
    }
  },
  "nbformat": 4,
  "nbformat_minor": 0
}
