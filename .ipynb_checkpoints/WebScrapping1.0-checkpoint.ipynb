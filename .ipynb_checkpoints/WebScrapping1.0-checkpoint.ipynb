{
 "cells": [
  {
   "cell_type": "code",
   "execution_count": 13,
   "id": "a432f260",
   "metadata": {},
   "outputs": [],
   "source": [
    "import requests\n",
    "from bs4 import BeautifulSoup\n",
    "import pandas as pd\n",
    "import time\n",
    "import traceback"
   ]
  },
  {
   "cell_type": "code",
   "execution_count": 14,
   "id": "09d9c20f",
   "metadata": {},
   "outputs": [],
   "source": [
    "#Functions to webscrape\n",
    "def fetch_webpage(url):\n",
    "    response = requests.get(url)\n",
    "    if response.status_code == 200:\n",
    "        return response.text\n",
    "    else:\n",
    "        print(f\"Failed to fetch webpage. Status code: {response.status_code}\")\n",
    "        return None\n",
    "\n",
    "def parse_html(html_content):\n",
    "    return BeautifulSoup(html_content, 'html.parser')"
   ]
  },
  {
   "cell_type": "code",
   "execution_count": 19,
   "id": "e0e67a25",
   "metadata": {},
   "outputs": [
    {
     "name": "stdout",
     "output_type": "stream",
     "text": [
      "682\n"
     ]
    }
   ],
   "source": [
    "#Get the maximum pages of Scoot airlines\n",
    "first_url = \"https://www.airlinequality.com/airline-reviews/scoot/?sortby=post_date%3ADesc&pagesize=100\"\n",
    "first_page = fetch_webpage(first_url)\n",
    "num_reviews = 0\n",
    "if first_page:\n",
    "    soup = parse_html(first_page)\n",
    "    reviews_html = soup.find_all('div', class_='pagination-total')\n",
    "    lst = str(reviews_html[0]).split(\" \")\n",
    "    for word in lst:\n",
    "        try:\n",
    "            num_reviews = int(word)\n",
    "        except:\n",
    "            continue\n",
    "print(num_reviews)"
   ]
  },
  {
   "cell_type": "code",
   "execution_count": 22,
   "id": "1c8d52d1",
   "metadata": {},
   "outputs": [],
   "source": [
    "import math\n",
    "MAX_PAGES= math.ceil(num_reviews/100)\n",
    "list_url = [f'https://www.airlinequality.com/airline-reviews/scoot/page/{page}/?sortby=post_date%3ADesc&pagesize=100' for page in range(1, MAX_PAGES+1)]"
   ]
  },
  {
   "cell_type": "code",
   "execution_count": 23,
   "id": "e2447b91",
   "metadata": {},
   "outputs": [
    {
     "data": {
      "text/plain": [
       "['https://www.airlinequality.com/airline-reviews/scoot/page/1/?sortby=post_date%3ADesc&pagesize=100',\n",
       " 'https://www.airlinequality.com/airline-reviews/scoot/page/2/?sortby=post_date%3ADesc&pagesize=100',\n",
       " 'https://www.airlinequality.com/airline-reviews/scoot/page/3/?sortby=post_date%3ADesc&pagesize=100',\n",
       " 'https://www.airlinequality.com/airline-reviews/scoot/page/4/?sortby=post_date%3ADesc&pagesize=100',\n",
       " 'https://www.airlinequality.com/airline-reviews/scoot/page/5/?sortby=post_date%3ADesc&pagesize=100',\n",
       " 'https://www.airlinequality.com/airline-reviews/scoot/page/6/?sortby=post_date%3ADesc&pagesize=100',\n",
       " 'https://www.airlinequality.com/airline-reviews/scoot/page/7/?sortby=post_date%3ADesc&pagesize=100']"
      ]
     },
     "execution_count": 23,
     "metadata": {},
     "output_type": "execute_result"
    }
   ],
   "source": [
    "list_url"
   ]
  },
  {
   "cell_type": "code",
   "execution_count": 8,
   "id": "03fdb7c3",
   "metadata": {},
   "outputs": [],
   "source": [
    "# Initialize an empty DataFrame to store the comments data\n",
    "comments_data = pd.DataFrame(columns=['Date Published', 'Overall Rating', 'Passenger Country', 'Trip Verified', 'Review Title','Review', \n",
    "                                       'Aircraft', 'Type Of Traveller', 'Seat Type', 'Origin', 'Destination' 'Date Flown', \n",
    "                                       'Seat Comfort', 'Cabin Staff Service', 'Food & Beverages', 'Ground Service', \n",
    "                                       'Value For Money', 'Recommended'])\n",
    "comments_data_list = [] \n",
    "\n",
    "class_to_label = {\n",
    "    'aircraft': 'Aircraft',\n",
    "    'type_of_traveller': 'Type Of Traveller',\n",
    "    'cabin_flown': 'Seat Type',\n",
    "    'route': 'Route',\n",
    "    'date_flown': 'Date Flown',\n",
    "    'seat_comfort': 'Seat Comfort',\n",
    "    'cabin_staff_service': 'Cabin Staff Service',\n",
    "    'food_and_beverages': 'Food & Beverages',\n",
    "    'inflight_entertainment':'Inflight Entertainment',\n",
    "    'ground_service': 'Ground Service',\n",
    "    'wifi_and_connectivity':'Wifi & Connectivity',\n",
    "    'value_for_money': 'Value For Money',\n",
    "    'recommended': 'Recommended'\n",
    "}"
   ]
  },
  {
   "cell_type": "code",
   "execution_count": 9,
   "id": "af02b98c",
   "metadata": {},
   "outputs": [],
   "source": [
    "for url in list_url:\n",
    "    html_content = fetch_webpage(url)\n",
    "    \n",
    "    if html_content:\n",
    "        soup = parse_html(html_content)\n",
    "        \n",
    "        # Find all comment elements\n",
    "        comments = soup.find_all('article', itemprop='review')\n",
    "        \n",
    "        for comment in comments:\n",
    "            try:\n",
    "                # Date Published column\n",
    "                date_published = comment.find('meta', itemprop='datePublished')['content']\n",
    "                # Overall Rating column\n",
    "                rating_text = comment.find('span', itemprop='ratingValue')\n",
    "                rating = rating_text.text if rating_text else \"\"\n",
    "                # Review Title column\n",
    "                text_header = comment.find('h2', class_='text_header').text\n",
    "                # Passenger Country column\n",
    "                text_sub_header_text = comment.find('h3', class_='text_sub_header userStatusWrapper').get_text(strip=True)\n",
    "                country = text_sub_header_text.split('</span> (')[-1].split(') <time')[0]\n",
    "\n",
    "                # Trip Verified and Review\n",
    "                text_content = comment.find('div', class_='text_content', itemprop='reviewBody')\n",
    "                # Find the element containing 'Not Verified' or 'Trip Verified'\n",
    "                verification_text = text_content.find('strong')\n",
    "                verification = verification_text.text.strip() if verification else \"\"\n",
    "                text_content = text_content.text.strip()\n",
    "                \n",
    "                if '|' in text_content:\n",
    "                    text_content= text_content.split('|')[1].strip()\n",
    "\n",
    "\n",
    "                review_ratings = comment.find('table', class_='review-ratings')\n",
    "                review_ratings = comment.find_all('tr')\n",
    "\n",
    "                table_data = {}\n",
    "                for row in review_ratings:\n",
    "                    # Find the header and value cells\n",
    "                    header_cell = row.find('td', class_='review-rating-header')\n",
    "                    value_cell = row.find('td', class_='review-value')\n",
    "                    value2_cell = row.find('td', class_='review-rating-stars')\n",
    "\n",
    "                    # Check if both header and value cells exist\n",
    "                    if header_cell and (value_cell or value2_cell):\n",
    "                        # Get the class name of the header cell\n",
    "                        class_name = header_cell['class'][1]\n",
    "\n",
    "                        # Get the corresponding data label from the class_to_label dictionary\n",
    "                        data_label = class_to_label.get(class_name, '')\n",
    "\n",
    "                        # Store the data label and value in the table_data dictionary\n",
    "                        if value_cell:\n",
    "                            value = value_cell.text.strip()\n",
    "                            # If the feature is 'Route', split the value into origin and destination\n",
    "                            if data_label == 'Route':\n",
    "                                if 'to' in value:\n",
    "                                    origin, destination = value.split(' to ')\n",
    "                                elif '-' in value:\n",
    "                                    origin, destination, _ = value. split('-')\n",
    "                                table_data['Origin'] = origin.strip()\n",
    "                                table_data['Destination'] = destination.strip()\n",
    "                            else:\n",
    "                                table_data[data_label] = value\n",
    "                        else:\n",
    "                            filled_star_spans = value2_cell.find_all('span', class_='star fill')\n",
    "                            table_data[data_label] = int(len(filled_star_spans))\n",
    "\n",
    "                # Append the data from the current comment to the list\n",
    "                comments_data_list.append({'Date Published': date_published, 'Overall Rating': rating, \n",
    "                                           'Passenger Country': country, 'Trip Verified': verification, \n",
    "                                           'Comment title': text_header, 'Comment': text_content, **table_data})\n",
    "                \n",
    "            except Exception as e:\n",
    "                print(f'Error in the comment: -> {comments.index(comment)}')\n",
    "                traceback.print_exc()"
   ]
  },
  {
   "cell_type": "code",
   "execution_count": 10,
   "id": "9bd231df",
   "metadata": {},
   "outputs": [],
   "source": [
    "# Convert the list of dictionaries into a DataFrame\n",
    "comments_data = pd.DataFrame(comments_data_list)"
   ]
  },
  {
   "cell_type": "code",
   "execution_count": 11,
   "id": "88466411",
   "metadata": {},
   "outputs": [],
   "source": [
    "comments_data.to_csv('ryanair_reviews.csv', encoding='utf-8')"
   ]
  },
  {
   "cell_type": "code",
   "execution_count": 12,
   "id": "457375f7",
   "metadata": {},
   "outputs": [
    {
     "name": "stdout",
     "output_type": "stream",
     "text": [
      "<class 'pandas.core.frame.DataFrame'>\n",
      "RangeIndex: 2254 entries, 0 to 2253\n",
      "Data columns (total 20 columns):\n",
      " #   Column                  Non-Null Count  Dtype  \n",
      "---  ------                  --------------  -----  \n",
      " 0   Date Published          2254 non-null   object \n",
      " 1   Overall Rating          2254 non-null   object \n",
      " 2   Passenger Country       2254 non-null   object \n",
      " 3   Trip_verified           2254 non-null   object \n",
      " 4   Comment title           2254 non-null   object \n",
      " 5   Comment                 2254 non-null   object \n",
      " 6   Type Of Traveller       1640 non-null   object \n",
      " 7   Seat Type               2254 non-null   object \n",
      " 8   Origin                  1639 non-null   object \n",
      " 9   Destination             1639 non-null   object \n",
      " 10  Date Flown              1636 non-null   object \n",
      " 11  Seat Comfort            2142 non-null   float64\n",
      " 12  Cabin Staff Service     2133 non-null   float64\n",
      " 13  Ground Service          1583 non-null   float64\n",
      " 14  Value For Money         2253 non-null   float64\n",
      " 15  Recommended             2254 non-null   object \n",
      " 16  Aircraft                553 non-null    object \n",
      " 17  Food & Beverages        1314 non-null   float64\n",
      " 18  Inflight Entertainment  332 non-null    float64\n",
      " 19  Wifi & Connectivity     269 non-null    float64\n",
      "dtypes: float64(7), object(13)\n",
      "memory usage: 352.3+ KB\n"
     ]
    }
   ],
   "source": [
    "comments_data.info()"
   ]
  },
  {
   "cell_type": "code",
   "execution_count": null,
   "id": "4f7863c1",
   "metadata": {},
   "outputs": [],
   "source": []
  }
 ],
 "metadata": {
  "kernelspec": {
   "display_name": "Python 3",
   "language": "python",
   "name": "python3"
  },
  "language_info": {
   "codemirror_mode": {
    "name": "ipython",
    "version": 3
   },
   "file_extension": ".py",
   "mimetype": "text/x-python",
   "name": "python",
   "nbconvert_exporter": "python",
   "pygments_lexer": "ipython3",
   "version": "3.8.8"
  }
 },
 "nbformat": 4,
 "nbformat_minor": 5
}
