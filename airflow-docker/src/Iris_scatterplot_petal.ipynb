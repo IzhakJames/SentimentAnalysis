{
 "cells": [
  {
   "cell_type": "code",
   "execution_count": null,
   "metadata": {},
   "outputs": [],
   "source": [
    "import numpy as np\n",
    "import pandas as pd\n",
    "\n",
    "import matplotlib.pyplot as plt\n",
    "import matplotlib.patches as mpatches\n",
    "\n",
    "pd.set_option('display.max_rows', 150)\n",
    "\n",
    "iris = pd.read_csv('../data/iris.csv')\n",
    "iris['class'] = np.where(iris['class'] == 'setosa', 0,\n",
    "                    np.where(iris['class'] == 'versicolor', 1, 2))                         "
   ]
  },
  {
   "cell_type": "code",
   "execution_count": null,
   "metadata": {},
   "outputs": [],
   "source": [
    "x = iris['petal_length'] # x-axis - petal length\n",
    "y = iris['petal_width'] # y-axis - petal width\n",
    "species = iris['class'] # species\n",
    "\n",
    "x_min, x_max = x.min() - .5, x.max() + .5\n",
    "y_min, y_max = y.min() - .5, y.max() + .5\n",
    "\n",
    "# Scatterplot\n",
    "plt.figure()\n",
    "plt.title('Iris Dataset - Classification By Petal Size')\n",
    "plt.scatter(x, y, c=species)\n",
    "plt.xlabel('Petal Length')\n",
    "plt.ylabel('Petal Width')\n",
    "plt.xlim(x_min, x_max)\n",
    "plt.ylim(y_min, y_max)\n",
    "plt.xticks(())\n",
    "plt.yticks(())\n",
    "plt.show()"
   ]
  }
 ],
 "metadata": {
  "kernelspec": {
   "display_name": "Python 3 (ipykernel)",
   "language": "python",
   "name": "python3"
  },
  "language_info": {
   "codemirror_mode": {
    "name": "ipython",
    "version": 3
   },
   "file_extension": ".py",
   "mimetype": "text/x-python",
   "name": "python",
   "nbconvert_exporter": "python",
   "pygments_lexer": "ipython3",
   "version": "3.9.6"
  }
 },
 "nbformat": 4,
 "nbformat_minor": 4
}
